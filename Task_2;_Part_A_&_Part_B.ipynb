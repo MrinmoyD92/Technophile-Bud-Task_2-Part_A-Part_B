{
  "nbformat": 4,
  "nbformat_minor": 0,
  "metadata": {
    "colab": {
      "name": "Task_2; Part_A & Part_B.ipynb",
      "provenance": []
    },
    "kernelspec": {
      "name": "python3",
      "display_name": "Python 3"
    },
    "language_info": {
      "name": "python"
    }
  },
  "cells": [
    {
      "cell_type": "code",
      "metadata": {
        "colab": {
          "base_uri": "https://localhost:8080/"
        },
        "id": "QRhl8LVVDbft",
        "outputId": "bf02cb7f-c2ea-49e4-d511-ceb5cac525db"
      },
      "source": [
        "print(\"Pokemon Training Game - Gotta Catch'em All\")\n",
        "pokemon_powers = [3, 8, 9, 7]\n",
        "   \n",
        "minimum = 0\n",
        "maximum = 0\n",
        "   \n",
        "for power in pokemon_powers:\n",
        "    if minimum == 0 and maximum == 0:\n",
        "        minimum = pokemon_powers[0]\n",
        "        maximum = pokemon_powers[0]\n",
        "        print(minimum, maximum)\n",
        "    else:\n",
        "        minimum = min(minimum, power)\n",
        "        maximum = max(maximum, power)\n",
        "        print(minimum, maximum)"
      ],
      "execution_count": 35,
      "outputs": [
        {
          "output_type": "stream",
          "text": [
            "Pokemon Training Game - Gotta Catch'em All\n",
            "3 3\n",
            "3 8\n",
            "3 9\n",
            "3 9\n"
          ],
          "name": "stdout"
        }
      ]
    },
    {
      "cell_type": "code",
      "metadata": {
        "colab": {
          "base_uri": "https://localhost:8080/"
        },
        "id": "bX3yiSrgShvy",
        "outputId": "aa519233-1fad-4ecd-db08-40efc54e381d"
      },
      "source": [
        "import random\n",
        "\n",
        "number1 = random.randrange(1000, 10000)  \n",
        "  \n",
        "number2 = int(input(\"Type any 4 digit number you want to guess: \"))\n",
        "\n",
        "if (number2 == number1):  \n",
        "    print(\"The number guessed is correct.\")\n",
        "else:\n",
        "    ctr = 0  \n",
        "\n",
        "    while (number2 != number1):  \n",
        "        ctr += 1\n",
        "        count = 0\n",
        "\n",
        "        number2 = str(number2)  \n",
        "        number1 = str(number1)  \n",
        "\n",
        "        correct = ['X'] * 4  \n",
        "\n",
        "        for i in range(0, 4): \n",
        "\n",
        "            if (number2[i] == number1[i]):  \n",
        "                count += 1  \n",
        "                correct[i] = number2[i]  \n",
        "            else:\n",
        "                continue\n",
        "\n",
        "        if (count < 4) and (count != 0):  \n",
        "            print(\"You got \", count, \"digits correct\")\n",
        "            print(\"Also these numbers in your input were correct.\")\n",
        "            for k in correct:\n",
        "                print(k, end=' ')\n",
        "            \n",
        "            number2 = int(input(\"Enter your next choice of numbers: \"))\n",
        "\n",
        "        elif (count == 0):  \n",
        "            print(\"Sorry! Numbers entered does not match.\")\n",
        "            number2 = int(input(\"Enter your next choice of numbers: \"))\n",
        "\n",
        "    if number2 == number1:  \n",
        "        print(\"You are a champion\")\n",
        "        print(\"You tried\", ctr, \"times.\")"
      ],
      "execution_count": 34,
      "outputs": [
        {
          "output_type": "stream",
          "text": [
            "Type any 4 digit number you want to guess: 7125\n",
            "You got  1 digits correct\n",
            "Also these numbers in your input were correct.\n",
            "X X X 5 Enter your next choice of numbers: 7125\n",
            "You got  1 digits correct\n",
            "Also these numbers in your input were correct.\n",
            "X X X 5 Enter your next choice of numbers: 7125\n",
            "You got  1 digits correct\n",
            "Also these numbers in your input were correct.\n",
            "X X X 5 Enter your next choice of numbers: 5624\n",
            "Sorry! Numbers entered does not match.\n",
            "Enter your next choice of numbers: 7125\n",
            "You got  1 digits correct\n",
            "Also these numbers in your input were correct.\n",
            "X X X 5 Enter your next choice of numbers: 8975\n",
            "You got  1 digits correct\n",
            "Also these numbers in your input were correct.\n",
            "X X X 5 Enter your next choice of numbers: 6985\n",
            "You got  1 digits correct\n",
            "Also these numbers in your input were correct.\n",
            "X X X 5 Enter your next choice of numbers: 7775\n",
            "You got  1 digits correct\n",
            "Also these numbers in your input were correct.\n",
            "X X X 5 Enter your next choice of numbers: 8885\n",
            "You got  1 digits correct\n",
            "Also these numbers in your input were correct.\n",
            "X X X 5 Enter your next choice of numbers: 9995\n",
            "You got  1 digits correct\n",
            "Also these numbers in your input were correct.\n",
            "X X X 5 Enter your next choice of numbers: 4445\n",
            "You got  1 digits correct\n",
            "Also these numbers in your input were correct.\n",
            "X X X 5 Enter your next choice of numbers: 6665\n",
            "You got  1 digits correct\n",
            "Also these numbers in your input were correct.\n",
            "X X X 5 Enter your next choice of numbers: 1115\n",
            "You got  2 digits correct\n",
            "Also these numbers in your input were correct.\n",
            "X X 1 5 Enter your next choice of numbers: 2215\n",
            "You got  2 digits correct\n",
            "Also these numbers in your input were correct.\n",
            "X X 1 5 Enter your next choice of numbers: 3315\n",
            "You are a champion\n",
            "You tried 15 times.\n"
          ],
          "name": "stdout"
        }
      ]
    }
  ]
}